{
 "cells": [
  {
   "attachments": {},
   "cell_type": "markdown",
   "metadata": {},
   "source": [
    "<div style=\"background-image: linear-gradient(to right, #4b4cff , #00d4ff); text-align: center; padding: 50px;\">\n",
    "  <h1 style=\"font-family: 'Segoe UI', Tahoma, Geneva, Verdana, sans-serif; font-size: 48px; color: white; text-shadow: 2px 2px #4b4cff;\">\n",
    "    Pattern Recognition and Biometrics\n",
    "  </h1>\n",
    "</div>"
   ]
  },
  {
   "attachments": {},
   "cell_type": "markdown",
   "metadata": {},
   "source": [
    "<h1 style=\"color:white; background-color: #ADD8E6; padding:15px; text-align: center;\">\n",
    "TP Cluster\n",
    "</h1>"
   ]
  },
  {
   "attachments": {},
   "cell_type": "markdown",
   "metadata": {},
   "source": [
    "<h2 style=\"color:#f7ce5b; font-family: Arial, sans-serif; font-size: 40px; margin-top: 50px; border-bottom: 2px solid #f7ce5b;\">\n",
    "Library\n",
    "</h2>"
   ]
  },
  {
   "cell_type": "code",
   "execution_count": 1,
   "metadata": {},
   "outputs": [],
   "source": [
    "import pandas as pd \n",
    "import numpy as np \n",
    "import matplotlib.pyplot as plt\n",
    "from sklearn.cluster import KMeans\n",
    "from sklearn.metrics import silhouette_score\n",
    "from scipy.cluster.hierarchy import dendrogram, linkage, fcluster"
   ]
  },
  {
   "cell_type": "code",
   "execution_count": 2,
   "metadata": {},
   "outputs": [],
   "source": [
    "data = pd.read_csv(\"optdigits.tra\")\n",
    "\n",
    "data_test = pd.read_csv(\"optdigits.tes\")"
   ]
  },
  {
   "cell_type": "code",
   "execution_count": 69,
   "metadata": {},
   "outputs": [
    {
     "data": {
      "text/html": [
       "<div>\n",
       "<style scoped>\n",
       "    .dataframe tbody tr th:only-of-type {\n",
       "        vertical-align: middle;\n",
       "    }\n",
       "\n",
       "    .dataframe tbody tr th {\n",
       "        vertical-align: top;\n",
       "    }\n",
       "\n",
       "    .dataframe thead th {\n",
       "        text-align: right;\n",
       "    }\n",
       "</style>\n",
       "<table border=\"1\" class=\"dataframe\">\n",
       "  <thead>\n",
       "    <tr style=\"text-align: right;\">\n",
       "      <th></th>\n",
       "      <th>0</th>\n",
       "      <th>1</th>\n",
       "      <th>6</th>\n",
       "      <th>15</th>\n",
       "      <th>12</th>\n",
       "      <th>1.1</th>\n",
       "      <th>0.1</th>\n",
       "      <th>0.2</th>\n",
       "      <th>0.3</th>\n",
       "      <th>7</th>\n",
       "      <th>...</th>\n",
       "      <th>0.21</th>\n",
       "      <th>0.22</th>\n",
       "      <th>0.23</th>\n",
       "      <th>6.3</th>\n",
       "      <th>14.1</th>\n",
       "      <th>7.4</th>\n",
       "      <th>1.3</th>\n",
       "      <th>0.24</th>\n",
       "      <th>0.25</th>\n",
       "      <th>0.26</th>\n",
       "    </tr>\n",
       "  </thead>\n",
       "  <tbody>\n",
       "    <tr>\n",
       "      <th>0</th>\n",
       "      <td>0</td>\n",
       "      <td>0</td>\n",
       "      <td>10</td>\n",
       "      <td>16</td>\n",
       "      <td>6</td>\n",
       "      <td>0</td>\n",
       "      <td>0</td>\n",
       "      <td>0</td>\n",
       "      <td>0</td>\n",
       "      <td>7</td>\n",
       "      <td>...</td>\n",
       "      <td>0</td>\n",
       "      <td>0</td>\n",
       "      <td>0</td>\n",
       "      <td>10</td>\n",
       "      <td>16</td>\n",
       "      <td>15</td>\n",
       "      <td>3</td>\n",
       "      <td>0</td>\n",
       "      <td>0</td>\n",
       "      <td>0</td>\n",
       "    </tr>\n",
       "    <tr>\n",
       "      <th>1</th>\n",
       "      <td>0</td>\n",
       "      <td>0</td>\n",
       "      <td>8</td>\n",
       "      <td>15</td>\n",
       "      <td>16</td>\n",
       "      <td>13</td>\n",
       "      <td>0</td>\n",
       "      <td>0</td>\n",
       "      <td>0</td>\n",
       "      <td>1</td>\n",
       "      <td>...</td>\n",
       "      <td>0</td>\n",
       "      <td>0</td>\n",
       "      <td>0</td>\n",
       "      <td>9</td>\n",
       "      <td>14</td>\n",
       "      <td>0</td>\n",
       "      <td>0</td>\n",
       "      <td>0</td>\n",
       "      <td>0</td>\n",
       "      <td>7</td>\n",
       "    </tr>\n",
       "    <tr>\n",
       "      <th>2</th>\n",
       "      <td>0</td>\n",
       "      <td>0</td>\n",
       "      <td>0</td>\n",
       "      <td>3</td>\n",
       "      <td>11</td>\n",
       "      <td>16</td>\n",
       "      <td>0</td>\n",
       "      <td>0</td>\n",
       "      <td>0</td>\n",
       "      <td>0</td>\n",
       "      <td>...</td>\n",
       "      <td>0</td>\n",
       "      <td>0</td>\n",
       "      <td>0</td>\n",
       "      <td>0</td>\n",
       "      <td>1</td>\n",
       "      <td>15</td>\n",
       "      <td>2</td>\n",
       "      <td>0</td>\n",
       "      <td>0</td>\n",
       "      <td>4</td>\n",
       "    </tr>\n",
       "    <tr>\n",
       "      <th>3</th>\n",
       "      <td>0</td>\n",
       "      <td>0</td>\n",
       "      <td>5</td>\n",
       "      <td>14</td>\n",
       "      <td>4</td>\n",
       "      <td>0</td>\n",
       "      <td>0</td>\n",
       "      <td>0</td>\n",
       "      <td>0</td>\n",
       "      <td>0</td>\n",
       "      <td>...</td>\n",
       "      <td>0</td>\n",
       "      <td>0</td>\n",
       "      <td>0</td>\n",
       "      <td>4</td>\n",
       "      <td>12</td>\n",
       "      <td>14</td>\n",
       "      <td>7</td>\n",
       "      <td>0</td>\n",
       "      <td>0</td>\n",
       "      <td>6</td>\n",
       "    </tr>\n",
       "    <tr>\n",
       "      <th>4</th>\n",
       "      <td>0</td>\n",
       "      <td>0</td>\n",
       "      <td>11</td>\n",
       "      <td>16</td>\n",
       "      <td>10</td>\n",
       "      <td>1</td>\n",
       "      <td>0</td>\n",
       "      <td>0</td>\n",
       "      <td>0</td>\n",
       "      <td>4</td>\n",
       "      <td>...</td>\n",
       "      <td>3</td>\n",
       "      <td>0</td>\n",
       "      <td>0</td>\n",
       "      <td>10</td>\n",
       "      <td>16</td>\n",
       "      <td>16</td>\n",
       "      <td>16</td>\n",
       "      <td>16</td>\n",
       "      <td>6</td>\n",
       "      <td>2</td>\n",
       "    </tr>\n",
       "    <tr>\n",
       "      <th>...</th>\n",
       "      <td>...</td>\n",
       "      <td>...</td>\n",
       "      <td>...</td>\n",
       "      <td>...</td>\n",
       "      <td>...</td>\n",
       "      <td>...</td>\n",
       "      <td>...</td>\n",
       "      <td>...</td>\n",
       "      <td>...</td>\n",
       "      <td>...</td>\n",
       "      <td>...</td>\n",
       "      <td>...</td>\n",
       "      <td>...</td>\n",
       "      <td>...</td>\n",
       "      <td>...</td>\n",
       "      <td>...</td>\n",
       "      <td>...</td>\n",
       "      <td>...</td>\n",
       "      <td>...</td>\n",
       "      <td>...</td>\n",
       "      <td>...</td>\n",
       "    </tr>\n",
       "    <tr>\n",
       "      <th>3817</th>\n",
       "      <td>0</td>\n",
       "      <td>0</td>\n",
       "      <td>5</td>\n",
       "      <td>13</td>\n",
       "      <td>11</td>\n",
       "      <td>2</td>\n",
       "      <td>0</td>\n",
       "      <td>0</td>\n",
       "      <td>0</td>\n",
       "      <td>2</td>\n",
       "      <td>...</td>\n",
       "      <td>0</td>\n",
       "      <td>0</td>\n",
       "      <td>0</td>\n",
       "      <td>8</td>\n",
       "      <td>13</td>\n",
       "      <td>15</td>\n",
       "      <td>10</td>\n",
       "      <td>1</td>\n",
       "      <td>0</td>\n",
       "      <td>9</td>\n",
       "    </tr>\n",
       "    <tr>\n",
       "      <th>3818</th>\n",
       "      <td>0</td>\n",
       "      <td>0</td>\n",
       "      <td>0</td>\n",
       "      <td>1</td>\n",
       "      <td>12</td>\n",
       "      <td>1</td>\n",
       "      <td>0</td>\n",
       "      <td>0</td>\n",
       "      <td>0</td>\n",
       "      <td>0</td>\n",
       "      <td>...</td>\n",
       "      <td>0</td>\n",
       "      <td>0</td>\n",
       "      <td>0</td>\n",
       "      <td>0</td>\n",
       "      <td>4</td>\n",
       "      <td>9</td>\n",
       "      <td>0</td>\n",
       "      <td>0</td>\n",
       "      <td>0</td>\n",
       "      <td>4</td>\n",
       "    </tr>\n",
       "    <tr>\n",
       "      <th>3819</th>\n",
       "      <td>0</td>\n",
       "      <td>0</td>\n",
       "      <td>3</td>\n",
       "      <td>15</td>\n",
       "      <td>0</td>\n",
       "      <td>0</td>\n",
       "      <td>0</td>\n",
       "      <td>0</td>\n",
       "      <td>0</td>\n",
       "      <td>0</td>\n",
       "      <td>...</td>\n",
       "      <td>0</td>\n",
       "      <td>0</td>\n",
       "      <td>0</td>\n",
       "      <td>4</td>\n",
       "      <td>14</td>\n",
       "      <td>16</td>\n",
       "      <td>9</td>\n",
       "      <td>0</td>\n",
       "      <td>0</td>\n",
       "      <td>6</td>\n",
       "    </tr>\n",
       "    <tr>\n",
       "      <th>3820</th>\n",
       "      <td>0</td>\n",
       "      <td>0</td>\n",
       "      <td>6</td>\n",
       "      <td>16</td>\n",
       "      <td>2</td>\n",
       "      <td>0</td>\n",
       "      <td>0</td>\n",
       "      <td>0</td>\n",
       "      <td>0</td>\n",
       "      <td>0</td>\n",
       "      <td>...</td>\n",
       "      <td>0</td>\n",
       "      <td>0</td>\n",
       "      <td>0</td>\n",
       "      <td>5</td>\n",
       "      <td>16</td>\n",
       "      <td>16</td>\n",
       "      <td>16</td>\n",
       "      <td>5</td>\n",
       "      <td>0</td>\n",
       "      <td>6</td>\n",
       "    </tr>\n",
       "    <tr>\n",
       "      <th>3821</th>\n",
       "      <td>0</td>\n",
       "      <td>0</td>\n",
       "      <td>2</td>\n",
       "      <td>15</td>\n",
       "      <td>16</td>\n",
       "      <td>13</td>\n",
       "      <td>1</td>\n",
       "      <td>0</td>\n",
       "      <td>0</td>\n",
       "      <td>0</td>\n",
       "      <td>...</td>\n",
       "      <td>0</td>\n",
       "      <td>0</td>\n",
       "      <td>0</td>\n",
       "      <td>4</td>\n",
       "      <td>14</td>\n",
       "      <td>1</td>\n",
       "      <td>0</td>\n",
       "      <td>0</td>\n",
       "      <td>0</td>\n",
       "      <td>7</td>\n",
       "    </tr>\n",
       "  </tbody>\n",
       "</table>\n",
       "<p>3822 rows × 65 columns</p>\n",
       "</div>"
      ],
      "text/plain": [
       "      0  1   6  15  12  1.1  0.1  0.2  0.3  7  ...  0.21  0.22  0.23  6.3  \\\n",
       "0     0  0  10  16   6    0    0    0    0  7  ...     0     0     0   10   \n",
       "1     0  0   8  15  16   13    0    0    0  1  ...     0     0     0    9   \n",
       "2     0  0   0   3  11   16    0    0    0  0  ...     0     0     0    0   \n",
       "3     0  0   5  14   4    0    0    0    0  0  ...     0     0     0    4   \n",
       "4     0  0  11  16  10    1    0    0    0  4  ...     3     0     0   10   \n",
       "...  .. ..  ..  ..  ..  ...  ...  ...  ... ..  ...   ...   ...   ...  ...   \n",
       "3817  0  0   5  13  11    2    0    0    0  2  ...     0     0     0    8   \n",
       "3818  0  0   0   1  12    1    0    0    0  0  ...     0     0     0    0   \n",
       "3819  0  0   3  15   0    0    0    0    0  0  ...     0     0     0    4   \n",
       "3820  0  0   6  16   2    0    0    0    0  0  ...     0     0     0    5   \n",
       "3821  0  0   2  15  16   13    1    0    0  0  ...     0     0     0    4   \n",
       "\n",
       "      14.1  7.4  1.3  0.24  0.25  0.26  \n",
       "0       16   15    3     0     0     0  \n",
       "1       14    0    0     0     0     7  \n",
       "2        1   15    2     0     0     4  \n",
       "3       12   14    7     0     0     6  \n",
       "4       16   16   16    16     6     2  \n",
       "...    ...  ...  ...   ...   ...   ...  \n",
       "3817    13   15   10     1     0     9  \n",
       "3818     4    9    0     0     0     4  \n",
       "3819    14   16    9     0     0     6  \n",
       "3820    16   16   16     5     0     6  \n",
       "3821    14    1    0     0     0     7  \n",
       "\n",
       "[3822 rows x 65 columns]"
      ]
     },
     "metadata": {},
     "output_type": "display_data"
    }
   ],
   "source": [
    "display(data)"
   ]
  },
  {
   "attachments": {},
   "cell_type": "markdown",
   "metadata": {},
   "source": [
    "# K-Means"
   ]
  },
  {
   "cell_type": "code",
   "execution_count": 85,
   "metadata": {},
   "outputs": [],
   "source": [
    "X_train = data.iloc[:, :64]\n",
    "y_train = data.iloc[:, 64]\n",
    "X_test = data_test"
   ]
  },
  {
   "attachments": {},
   "cell_type": "markdown",
   "metadata": {},
   "source": [
    "On récupère le clustering dans kmeans, et on récupére les labels de tout les points."
   ]
  },
  {
   "attachments": {},
   "cell_type": "markdown",
   "metadata": {},
   "source": [
    "\n",
    "La deuxième ligne attribue les étiquettes de cluster à une variable appelée \"labels\". Chaque élément de \"labels\" correspond à l'affectation de cluster d'une ligne dans l'ensemble de données \"data\". Par exemple, si \"labels[0]\" est 3, cela signifie que la première ligne de \"data\" a été affectée au cluster 3 par l'algorithme KMeans."
   ]
  },
  {
   "cell_type": "code",
   "execution_count": 89,
   "metadata": {},
   "outputs": [],
   "source": [
    "kmeans = KMeans(n_clusters = 10,n_init=5 ).fit(X_train)\n",
    "labels = kmeans.labels_\n",
    "clusters = kmeans.predict(X_train)\n",
    "count_df = pd.DataFrame({'cluster': clusters, 'digit': y_train}).groupby(['cluster', 'digit']).size().unstack(fill_value=0)"
   ]
  },
  {
   "cell_type": "code",
   "execution_count": 93,
   "metadata": {},
   "outputs": [
    {
     "data": {
      "image/png": "[encoded data removed]",
      "text/plain": [
       "<Figure size 720x360 with 1 Axes>"
      ]
     },
     "metadata": {
      "needs_background": "light"
     },
     "output_type": "display_data"
    }
   ],
   "source": [
    "import matplotlib.pyplot as plt\n",
    "\n",
    "count_df.plot(kind='bar', stacked=True, figsize=(10, 5))\n",
    "plt.xlabel('Cluster')\n",
    "plt.ylabel('Count')\n",
    "plt.title('Distribution of digits in clusters')\n",
    "plt.show()\n"
   ]
  },
  {
   "cell_type": "code",
   "execution_count": 62,
   "metadata": {},
   "outputs": [
    {
     "name": "stdout",
     "output_type": "stream",
     "text": [
      "0.19143581673837\n"
     ]
    }
   ],
   "source": [
    "silhouette = silhouette_score(X_train, clusters)\n",
    "print(silhouette)"
   ]
  },
  {
   "attachments": {},
   "cell_type": "markdown",
   "metadata": {},
   "source": [
    "L'indice de silhouette varie entre -1 et 1, où une valeur proche de 1 indique que les points sont bien regroupés et séparés, et une valeur proche de -1 indique que les points sont mal regroupés et qu'ils devraient être dans d'autres clusters."
   ]
  },
  {
   "cell_type": "code",
   "execution_count": 73,
   "metadata": {},
   "outputs": [
    {
     "name": "stdout",
     "output_type": "stream",
     "text": [
      "Pour n_clusters = 2 L'indice de silhouette est : 0.12200027294792809\n",
      "Pour n_clusters = 3 L'indice de silhouette est : 0.12045676726671661\n",
      "Pour n_clusters = 4 L'indice de silhouette est : 0.1341295348552531\n",
      "Pour n_clusters = 5 L'indice de silhouette est : 0.14829635216232687\n",
      "Pour n_clusters = 6 L'indice de silhouette est : 0.16028327068991907\n",
      "Pour n_clusters = 7 L'indice de silhouette est : 0.17069435508437533\n",
      "Pour n_clusters = 8 L'indice de silhouette est : 0.18065149832338986\n",
      "Pour n_clusters = 9 L'indice de silhouette est : 0.1888360191042617\n",
      "Pour n_clusters = 10 L'indice de silhouette est : 0.19149767423220784\n",
      "Pour n_clusters = 11 L'indice de silhouette est : 0.18812652830862792\n",
      "Pour n_clusters = 12 L'indice de silhouette est : 0.1893555305239719\n",
      "Pour n_clusters = 13 L'indice de silhouette est : 0.1880557710051149\n",
      "Pour n_clusters = 14 L'indice de silhouette est : 0.17224526099934404\n",
      "Pour n_clusters = 15 L'indice de silhouette est : 0.17246734833631888\n",
      "Pour n_clusters = 16 L'indice de silhouette est : 0.1771987296171045\n",
      "Pour n_clusters = 17 L'indice de silhouette est : 0.1709199994741388\n",
      "Pour n_clusters = 18 L'indice de silhouette est : 0.1478230404431672\n",
      "Pour n_clusters = 19 L'indice de silhouette est : 0.16363633530104152\n",
      "Pour n_clusters = 20 L'indice de silhouette est : 0.16087030605786595\n"
     ]
    },
    {
     "data": {
      "image/png": "[encoded data removed]",
      "text/plain": [
       "<Figure size 432x288 with 1 Axes>"
      ]
     },
     "metadata": {
      "needs_background": "light"
     },
     "output_type": "display_data"
    }
   ],
   "source": [
    "silhouette_avgs = []\n",
    "\n",
    "for n_clusters in range(2, 21):\n",
    "    kmeans = KMeans(n_clusters=n_clusters, n_init=5).fit(X_train)\n",
    "    cluster = kmeans.predict(X_train)\n",
    "\n",
    "    silhouette_avg = silhouette_score(X_train, cluster)\n",
    "    silhouette_avgs.append(silhouette_avg)\n",
    "\n",
    "    print(\"Pour n_clusters =\", n_clusters, \"L'indice de silhouette est :\", silhouette_avg)\n",
    "\n",
    "plt.plot(range(2, 21), silhouette_avgs)\n",
    "plt.xlabel('Nombre de clusters')\n",
    "plt.ylabel('Indice de silhouette')\n",
    "plt.show()"
   ]
  },
  {
   "attachments": {},
   "cell_type": "markdown",
   "metadata": {},
   "source": [
    "Après plusieurs essais, on voit que l'indide ce silhouette va diminuer lorsqu'on augmente le nombre de clusters.\n",
    "Le meilleur clustering est atteint pour **K = 10**. Ce qui est cohérent car on a bien 10 chiffres dans ce jeu de données."
   ]
  },
  {
   "attachments": {},
   "cell_type": "markdown",
   "metadata": {},
   "source": [
    "On voit malheureusement qu'on se rapproche au maximum de 0.2 on est donc pas extrêment précis, on cherche à se rapprocher le plus de 1."
   ]
  },
  {
   "cell_type": "code",
   "execution_count": 96,
   "metadata": {},
   "outputs": [
    {
     "name": "stdout",
     "output_type": "stream",
     "text": [
      "Cluster  0  - Majority class:  2\n",
      "Cluster  1  - Majority class:  5\n",
      "Cluster  2  - Majority class:  0\n",
      "Cluster  3  - Majority class:  6\n",
      "Cluster  4  - Majority class:  1\n",
      "Cluster  5  - Majority class:  7\n",
      "Cluster  6  - Majority class:  4\n",
      "Cluster  7  - Majority class:  3\n",
      "Cluster  8  - Majority class:  1\n",
      "Cluster  9  - Majority class:  8\n"
     ]
    }
   ],
   "source": [
    "majority_labels = []\n",
    "\n",
    "for i in range(count_df.shape[0]):\n",
    "    majority_labels.append(count_df.iloc[i].idxmax())\n",
    "    print(\"Cluster \", i, \" - Majority class: \", majority_labels[i])\n"
   ]
  },
  {
   "cell_type": "code",
   "execution_count": 97,
   "metadata": {},
   "outputs": [
    {
     "ename": "ValueError",
     "evalue": "The feature names should match those that were passed during fit.\nFeature names unseen at fit time:\n- 0.26\n- 0.27\n- 0.28\n- 0.29\n- 10.1\n- ...\nFeature names seen at fit time, yet now missing:\n- 1.2\n- 1.3\n- 14.1\n- 16\n- 16.1\n- ...\n",
     "output_type": "error",
     "traceback": [
      "\u001b[1;31m---------------------------------------------------------------------------\u001b[0m",
      "\u001b[1;31mValueError\u001b[0m                                Traceback (most recent call last)",
      "\u001b[1;32m~\\AppData\\Local\\Temp/ipykernel_8204/1178741741.py\u001b[0m in \u001b[0;36m<module>\u001b[1;34m\u001b[0m\n\u001b[0;32m      5\u001b[0m \u001b[1;33m\u001b[0m\u001b[0m\n\u001b[0;32m      6\u001b[0m \u001b[1;31m# Prédire les clusters pour les données de test\u001b[0m\u001b[1;33m\u001b[0m\u001b[1;33m\u001b[0m\u001b[0m\n\u001b[1;32m----> 7\u001b[1;33m \u001b[0mclusters_test\u001b[0m \u001b[1;33m=\u001b[0m \u001b[0mkmeans\u001b[0m\u001b[1;33m.\u001b[0m\u001b[0mpredict\u001b[0m\u001b[1;33m(\u001b[0m\u001b[0mX_test\u001b[0m\u001b[1;33m)\u001b[0m\u001b[1;33m\u001b[0m\u001b[1;33m\u001b[0m\u001b[0m\n\u001b[0m\u001b[0;32m      8\u001b[0m \u001b[1;33m\u001b[0m\u001b[0m\n\u001b[0;32m      9\u001b[0m \u001b[1;31m# Obtenir les centres de chaque cluster\u001b[0m\u001b[1;33m\u001b[0m\u001b[1;33m\u001b[0m\u001b[0m\n",
      "\u001b[1;32mc:\\Users\\pierr\\anaconda3\\lib\\site-packages\\sklearn\\cluster\\_kmeans.py\u001b[0m in \u001b[0;36mpredict\u001b[1;34m(self, X, sample_weight)\u001b[0m\n\u001b[0;32m   1056\u001b[0m         \u001b[0mcheck_is_fitted\u001b[0m\u001b[1;33m(\u001b[0m\u001b[0mself\u001b[0m\u001b[1;33m)\u001b[0m\u001b[1;33m\u001b[0m\u001b[1;33m\u001b[0m\u001b[0m\n\u001b[0;32m   1057\u001b[0m \u001b[1;33m\u001b[0m\u001b[0m\n\u001b[1;32m-> 1058\u001b[1;33m         \u001b[0mX\u001b[0m \u001b[1;33m=\u001b[0m \u001b[0mself\u001b[0m\u001b[1;33m.\u001b[0m\u001b[0m_check_test_data\u001b[0m\u001b[1;33m(\u001b[0m\u001b[0mX\u001b[0m\u001b[1;33m)\u001b[0m\u001b[1;33m\u001b[0m\u001b[1;33m\u001b[0m\u001b[0m\n\u001b[0m\u001b[0;32m   1059\u001b[0m         \u001b[0msample_weight\u001b[0m \u001b[1;33m=\u001b[0m \u001b[0m_check_sample_weight\u001b[0m\u001b[1;33m(\u001b[0m\u001b[0msample_weight\u001b[0m\u001b[1;33m,\u001b[0m \u001b[0mX\u001b[0m\u001b[1;33m,\u001b[0m \u001b[0mdtype\u001b[0m\u001b[1;33m=\u001b[0m\u001b[0mX\u001b[0m\u001b[1;33m.\u001b[0m\u001b[0mdtype\u001b[0m\u001b[1;33m)\u001b[0m\u001b[1;33m\u001b[0m\u001b[1;33m\u001b[0m\u001b[0m\n\u001b[0;32m   1060\u001b[0m \u001b[1;33m\u001b[0m\u001b[0m\n",
      "\u001b[1;32mc:\\Users\\pierr\\anaconda3\\lib\\site-packages\\sklearn\\cluster\\_kmeans.py\u001b[0m in \u001b[0;36m_check_test_data\u001b[1;34m(self, X)\u001b[0m\n\u001b[0;32m    932\u001b[0m \u001b[1;33m\u001b[0m\u001b[0m\n\u001b[0;32m    933\u001b[0m     \u001b[1;32mdef\u001b[0m \u001b[0m_check_test_data\u001b[0m\u001b[1;33m(\u001b[0m\u001b[0mself\u001b[0m\u001b[1;33m,\u001b[0m \u001b[0mX\u001b[0m\u001b[1;33m)\u001b[0m\u001b[1;33m:\u001b[0m\u001b[1;33m\u001b[0m\u001b[1;33m\u001b[0m\u001b[0m\n\u001b[1;32m--> 934\u001b[1;33m         X = self._validate_data(\n\u001b[0m\u001b[0;32m    935\u001b[0m             \u001b[0mX\u001b[0m\u001b[1;33m,\u001b[0m\u001b[1;33m\u001b[0m\u001b[1;33m\u001b[0m\u001b[0m\n\u001b[0;32m    936\u001b[0m             \u001b[0maccept_sparse\u001b[0m\u001b[1;33m=\u001b[0m\u001b[1;34m\"csr\"\u001b[0m\u001b[1;33m,\u001b[0m\u001b[1;33m\u001b[0m\u001b[1;33m\u001b[0m\u001b[0m\n",
      "\u001b[1;32mc:\\Users\\pierr\\anaconda3\\lib\\site-packages\\sklearn\\base.py\u001b[0m in \u001b[0;36m_validate_data\u001b[1;34m(self, X, y, reset, validate_separately, **check_params)\u001b[0m\n\u001b[0;32m    546\u001b[0m             \u001b[0mvalidated\u001b[0m\u001b[1;33m.\u001b[0m\u001b[1;33m\u001b[0m\u001b[1;33m\u001b[0m\u001b[0m\n\u001b[0;32m    547\u001b[0m         \"\"\"\n\u001b[1;32m--> 548\u001b[1;33m         \u001b[0mself\u001b[0m\u001b[1;33m.\u001b[0m\u001b[0m_check_feature_names\u001b[0m\u001b[1;33m(\u001b[0m\u001b[0mX\u001b[0m\u001b[1;33m,\u001b[0m \u001b[0mreset\u001b[0m\u001b[1;33m=\u001b[0m\u001b[0mreset\u001b[0m\u001b[1;33m)\u001b[0m\u001b[1;33m\u001b[0m\u001b[1;33m\u001b[0m\u001b[0m\n\u001b[0m\u001b[0;32m    549\u001b[0m \u001b[1;33m\u001b[0m\u001b[0m\n\u001b[0;32m    550\u001b[0m         \u001b[1;32mif\u001b[0m \u001b[0my\u001b[0m \u001b[1;32mis\u001b[0m \u001b[1;32mNone\u001b[0m \u001b[1;32mand\u001b[0m \u001b[0mself\u001b[0m\u001b[1;33m.\u001b[0m\u001b[0m_get_tags\u001b[0m\u001b[1;33m(\u001b[0m\u001b[1;33m)\u001b[0m\u001b[1;33m[\u001b[0m\u001b[1;34m\"requires_y\"\u001b[0m\u001b[1;33m]\u001b[0m\u001b[1;33m:\u001b[0m\u001b[1;33m\u001b[0m\u001b[1;33m\u001b[0m\u001b[0m\n",
      "\u001b[1;32mc:\\Users\\pierr\\anaconda3\\lib\\site-packages\\sklearn\\base.py\u001b[0m in \u001b[0;36m_check_feature_names\u001b[1;34m(self, X, reset)\u001b[0m\n\u001b[0;32m    479\u001b[0m                 )\n\u001b[0;32m    480\u001b[0m \u001b[1;33m\u001b[0m\u001b[0m\n\u001b[1;32m--> 481\u001b[1;33m             \u001b[1;32mraise\u001b[0m \u001b[0mValueError\u001b[0m\u001b[1;33m(\u001b[0m\u001b[0mmessage\u001b[0m\u001b[1;33m)\u001b[0m\u001b[1;33m\u001b[0m\u001b[1;33m\u001b[0m\u001b[0m\n\u001b[0m\u001b[0;32m    482\u001b[0m \u001b[1;33m\u001b[0m\u001b[0m\n\u001b[0;32m    483\u001b[0m     def _validate_data(\n",
      "\u001b[1;31mValueError\u001b[0m: The feature names should match those that were passed during fit.\nFeature names unseen at fit time:\n- 0.26\n- 0.27\n- 0.28\n- 0.29\n- 10.1\n- ...\nFeature names seen at fit time, yet now missing:\n- 1.2\n- 1.3\n- 14.1\n- 16\n- 16.1\n- ...\n"
     ]
    }
   ],
   "source": [
    "from scipy.spatial.distance import cdist\n",
    "\n",
    "# Appliquer KMeans sur les données d'entraînement\n",
    "kmeans = KMeans(n_clusters=10, n_init=5).fit(X_train)\n",
    "\n",
    "# Prédire les clusters pour les données de test\n",
    "clusters_test = kmeans.predict(X_test)\n",
    "\n",
    "# Obtenir les centres de chaque cluster\n",
    "cluster_centers = kmeans.cluster_centers_\n",
    "\n",
    "# Calculer la distance entre chaque point de test et chaque centre de cluster\n",
    "distances = cdist(X_test, cluster_centers, metric='euclidean')\n",
    "\n",
    "# Prédire les labels en choisissant le cluster le plus proche\n",
    "predicted_labels = []\n",
    "for i in range(len(X_test)):\n",
    "    min_dist = np.inf\n",
    "    assigned_cluster = None\n",
    "    for j in range(len(cluster_centers)):\n",
    "        dist = distances[i][j]\n",
    "        if dist < min_dist:\n",
    "            min_dist = dist\n",
    "            assigned_cluster = j\n",
    "    predicted_labels.append(labels[assigned_cluster])\n"
   ]
  },
  {
   "cell_type": "code",
   "execution_count": 79,
   "metadata": {},
   "outputs": [
    {
     "name": "stdout",
     "output_type": "stream",
     "text": [
      "Confusion matrix:\n",
      " [[  1   0   1 372   0   0   0   1   0   0]\n",
      " [  0   0 114   0   0  15   9   1   1 249]\n",
      " [  0   4   0   0  27 329  19   1   0   0]\n",
      " [  0  10   5   0  19   5 344   0   4   2]\n",
      " [307  29  29   0   5   0   0   4   7   6]\n",
      " [  0   0   5   0   0   0  81   1 289   0]\n",
      " [  1   0   0   0   0   0   0 373   0   3]\n",
      " [  0 373   6   0   3   0   0   0   0   5]\n",
      " [  0   1   6   0 328   0   7   4   3  31]\n",
      " [  0  24  97   0   2   0 256   0   1   2]]\n",
      "Accuracy: 0.0028780743066457353\n"
     ]
    }
   ],
   "source": [
    "from sklearn.metrics import confusion_matrix, accuracy_score\n",
    "\n",
    "true_labels = y_train\n",
    "\n",
    "confusion_mat = confusion_matrix(true_labels, clusters)\n",
    "accuracy = accuracy_score(true_labels, clusters)\n",
    "\n",
    "print(\"Confusion matrix:\\n\", confusion_mat)\n",
    "print(\"Accuracy:\", accuracy)\n"
   ]
  },
  {
   "attachments": {},
   "cell_type": "markdown",
   "metadata": {},
   "source": [
    "## Cluster Hiérarchique"
   ]
  },
  {
   "cell_type": "markdown",
   "metadata": {},
   "source": [
    "Dans ce dendrogramme, chaque branche verticale représente un cluster, et la hauteur de la branche représente la distance entre les clusters liés. Les feuilles de l'arbre représentent les observations individuelles. \n",
    "\n",
    "Le critère de Ward a été utilisé ici pour minimiser la somme des carrés des différences entre les observations dans chaque cluster. Ainsi, chaque fusion de cluster est effectuée en minimisant la somme des carrés des distances entre les observations et leur centroides dans le nouveau cluster formé."
   ]
  },
  {
   "cell_type": "code",
   "execution_count": 6,
   "metadata": {},
   "outputs": [
    {
     "data": {
      "image/png": "[encoded data removed]",
      "text/plain": [
       "<Figure size 1080x576 with 1 Axes>"
      ]
     },
     "metadata": {
      "needs_background": "light"
     },
     "output_type": "display_data"
    }
   ],
   "source": [
    "Hier_clust = linkage(data, method='ward')\n",
    "\n",
    "plt.figure(figsize=(15, 8))\n",
    "dendrogram(Hier_clust, leaf_font_size=8)\n",
    "\n",
    "k = 10\n",
    "clusters = fcluster(Hier_clust, k, criterion='maxclust')\n",
    "\n",
    "plt.xlabel('Index des observations')\n",
    "plt.ylabel('Distance de fusion')\n",
    "plt.title('Dendrogramme de Clustering Hiérarchique avec le critère de Ward')\n",
    "\n",
    "plt.show()"
   ]
  },
  {
   "cell_type": "code",
   "execution_count": 7,
   "metadata": {},
   "outputs": [
    {
     "name": "stdout",
     "output_type": "stream",
     "text": [
      "L'indice de silhouette pour K=10: 0.1780\n"
     ]
    }
   ],
   "source": [
    "silhouette_avg = silhouette_score(data, clusters)\n",
    "print(\"L'indice de silhouette pour K={}: {:.4f}\".format(k, silhouette_avg))"
   ]
  },
  {
   "cell_type": "code",
   "execution_count": 9,
   "metadata": {},
   "outputs": [
    {
     "name": "stdout",
     "output_type": "stream",
     "text": [
      "L'indice de silhouette pour K=10: 0.1780\n",
      "L'indice de silhouette pour K=11: 0.1826\n",
      "L'indice de silhouette pour K=12: 0.1773\n",
      "L'indice de silhouette pour K=13: 0.1788\n",
      "L'indice de silhouette pour K=14: 0.1785\n",
      "L'indice de silhouette pour K=15: 0.1749\n",
      "L'indice de silhouette pour K=16: 0.1664\n",
      "L'indice de silhouette pour K=17: 0.1696\n",
      "L'indice de silhouette pour K=18: 0.1548\n",
      "L'indice de silhouette pour K=19: 0.1548\n",
      "L'indice de silhouette pour K=20: 0.1533\n"
     ]
    }
   ],
   "source": [
    "for k in range (10,21) : \n",
    "    clusters = fcluster(Hier_clust, k, criterion='maxclust')\n",
    "    silhouette_avg = silhouette_score(data, clusters)\n",
    "    print(\"L'indice de silhouette pour K={}: {:.4f}\".format(k, silhouette_avg))"
   ]
  },
  {
   "attachments": {},
   "cell_type": "markdown",
   "metadata": {},
   "source": [
    "On voit que le meilleur indice obtenu est pour 11 clusters. Cela correspond à peu près au 10 clusters des 10 chiffres que l'on devrait avoir. Et on obtient 0.1826 contre 0.19 précédemment, on reste dans le même ordre de grandeur."
   ]
  },
  {
   "cell_type": "code",
   "execution_count": 28,
   "metadata": {},
   "outputs": [
    {
     "name": "stdout",
     "output_type": "stream",
     "text": [
      "Labels majoritaires pour chaque cluster:\n",
      "[0, 0, 0, 0, 0, 0, 0, 0, 0, 0]\n"
     ]
    }
   ],
   "source": [
    "Hier_clust = linkage(data, method='ward')\n",
    "t = 10 # seuil de distance pour le partitionnement en clusters\n",
    "clusters = fcluster(Hier_clust, t, criterion='distance')\n",
    "labels = clusters - 1 # les labels commencent à 1, on les décale pour qu'ils commencent à 0\n",
    "\n",
    "cluster_counts = np.bincount(labels)\n",
    "majority_labels = [None] * 10\n",
    "\n",
    "for i in range(10):\n",
    "    cluster_digits = data[labels == i]\n",
    "    \n",
    "    class_counts = cluster_digits.apply(pd.Series.value_counts)\n",
    "    \n",
    "    majority_class = class_counts.idxmax().values[0]\n",
    "    \n",
    "    majority_labels[i] = majority_class\n",
    "\n",
    "print(\"Labels majoritaires pour chaque cluster:\")\n",
    "print(majority_labels)"
   ]
  }
 ],
 "metadata": {
  "kernelspec": {
   "display_name": "base",
   "language": "python",
   "name": "python3"
  },
  "language_info": {
   "codemirror_mode": {
    "name": "ipython",
    "version": 3
   },
   "file_extension": ".py",
   "mimetype": "text/x-python",
   "name": "python",
   "nbconvert_exporter": "python",
   "pygments_lexer": "ipython3",
   "version": "3.9.7"
  },
  "orig_nbformat": 4,
  "vscode": {
   "interpreter": {
    "hash": "6273220d8bc7ae11b70a9635d3a5f0503e91b14cd88235f8dad01f4cd2f542b3"
   }
  }
 },
 "nbformat": 4,
 "nbformat_minor": 2
}
