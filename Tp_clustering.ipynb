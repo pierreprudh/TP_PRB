{
 "cells": [
  {
   "attachments": {},
   "cell_type": "markdown",
   "metadata": {},
   "source": [
    "<div style=\"background-image: linear-gradient(to right, #4b4cff , #00d4ff); text-align: center; padding: 50px;\">\n",
    "  <h1 style=\"font-family: 'Segoe UI', Tahoma, Geneva, Verdana, sans-serif; font-size: 48px; color: white; text-shadow: 2px 2px #4b4cff;\">\n",
    "    Pattern Recognition and Biometrics\n",
    "  </h1>\n",
    "</div>"
   ]
  },
  {
   "attachments": {},
   "cell_type": "markdown",
   "metadata": {},
   "source": [
    "<h1 style=\"color:white; background-color: #ADD8E6; padding:15px; text-align: center;\">\n",
    "TP Cluster\n",
    "</h1>"
   ]
  },
  {
   "attachments": {},
   "cell_type": "markdown",
   "metadata": {},
   "source": [
    "<h2 style=\"color:#f7ce5b; font-family: Arial, sans-serif; font-size: 40px; margin-top: 50px; border-bottom: 2px solid #f7ce5b;\">\n",
    "Library\n",
    "</h2>"
   ]
  },
  {
   "cell_type": "code",
   "execution_count": 21,
   "metadata": {},
   "outputs": [],
   "source": [
    "import pandas as pd \n",
    "import numpy as np \n",
    "import matplotlib.pyplot as plt\n",
    "from sklearn.cluster import KMeans\n",
    "from sklearn.metrics import silhouette_score\n",
    "from scipy.cluster.hierarchy import dendrogram, linkage, fcluster"
   ]
  },
  {
   "cell_type": "code",
   "execution_count": 22,
   "metadata": {},
   "outputs": [],
   "source": [
    "data = pd.read_csv(\"./data/optdigits.tra\")\n",
    "\n",
    "data_test = pd.read_csv(\"./data/optdigits.tes\")"
   ]
  },
  {
   "cell_type": "code",
   "execution_count": 23,
   "metadata": {},
   "outputs": [
    {
     "data": {
      "text/html": [
       "<div>\n",
       "<style scoped>\n",
       "    .dataframe tbody tr th:only-of-type {\n",
       "        vertical-align: middle;\n",
       "    }\n",
       "\n",
       "    .dataframe tbody tr th {\n",
       "        vertical-align: top;\n",
       "    }\n",
       "\n",
       "    .dataframe thead th {\n",
       "        text-align: right;\n",
       "    }\n",
       "</style>\n",
       "<table border=\"1\" class=\"dataframe\">\n",
       "  <thead>\n",
       "    <tr style=\"text-align: right;\">\n",
       "      <th></th>\n",
       "      <th>0</th>\n",
       "      <th>0.1</th>\n",
       "      <th>5</th>\n",
       "      <th>13</th>\n",
       "      <th>9</th>\n",
       "      <th>1</th>\n",
       "      <th>0.2</th>\n",
       "      <th>0.3</th>\n",
       "      <th>0.4</th>\n",
       "      <th>0.5</th>\n",
       "      <th>...</th>\n",
       "      <th>0.23</th>\n",
       "      <th>0.24</th>\n",
       "      <th>0.25</th>\n",
       "      <th>6</th>\n",
       "      <th>13.2</th>\n",
       "      <th>10.2</th>\n",
       "      <th>0.26</th>\n",
       "      <th>0.27</th>\n",
       "      <th>0.28</th>\n",
       "      <th>0.29</th>\n",
       "    </tr>\n",
       "  </thead>\n",
       "  <tbody>\n",
       "    <tr>\n",
       "      <th>0</th>\n",
       "      <td>0</td>\n",
       "      <td>0</td>\n",
       "      <td>0</td>\n",
       "      <td>12</td>\n",
       "      <td>13</td>\n",
       "      <td>5</td>\n",
       "      <td>0</td>\n",
       "      <td>0</td>\n",
       "      <td>0</td>\n",
       "      <td>0</td>\n",
       "      <td>...</td>\n",
       "      <td>0</td>\n",
       "      <td>0</td>\n",
       "      <td>0</td>\n",
       "      <td>0</td>\n",
       "      <td>11</td>\n",
       "      <td>16</td>\n",
       "      <td>10</td>\n",
       "      <td>0</td>\n",
       "      <td>0</td>\n",
       "      <td>1</td>\n",
       "    </tr>\n",
       "    <tr>\n",
       "      <th>1</th>\n",
       "      <td>0</td>\n",
       "      <td>0</td>\n",
       "      <td>0</td>\n",
       "      <td>4</td>\n",
       "      <td>15</td>\n",
       "      <td>12</td>\n",
       "      <td>0</td>\n",
       "      <td>0</td>\n",
       "      <td>0</td>\n",
       "      <td>0</td>\n",
       "      <td>...</td>\n",
       "      <td>0</td>\n",
       "      <td>0</td>\n",
       "      <td>0</td>\n",
       "      <td>0</td>\n",
       "      <td>3</td>\n",
       "      <td>11</td>\n",
       "      <td>16</td>\n",
       "      <td>9</td>\n",
       "      <td>0</td>\n",
       "      <td>2</td>\n",
       "    </tr>\n",
       "    <tr>\n",
       "      <th>2</th>\n",
       "      <td>0</td>\n",
       "      <td>0</td>\n",
       "      <td>7</td>\n",
       "      <td>15</td>\n",
       "      <td>13</td>\n",
       "      <td>1</td>\n",
       "      <td>0</td>\n",
       "      <td>0</td>\n",
       "      <td>0</td>\n",
       "      <td>8</td>\n",
       "      <td>...</td>\n",
       "      <td>0</td>\n",
       "      <td>0</td>\n",
       "      <td>0</td>\n",
       "      <td>7</td>\n",
       "      <td>13</td>\n",
       "      <td>13</td>\n",
       "      <td>9</td>\n",
       "      <td>0</td>\n",
       "      <td>0</td>\n",
       "      <td>3</td>\n",
       "    </tr>\n",
       "    <tr>\n",
       "      <th>3</th>\n",
       "      <td>0</td>\n",
       "      <td>0</td>\n",
       "      <td>0</td>\n",
       "      <td>1</td>\n",
       "      <td>11</td>\n",
       "      <td>0</td>\n",
       "      <td>0</td>\n",
       "      <td>0</td>\n",
       "      <td>0</td>\n",
       "      <td>0</td>\n",
       "      <td>...</td>\n",
       "      <td>0</td>\n",
       "      <td>0</td>\n",
       "      <td>0</td>\n",
       "      <td>0</td>\n",
       "      <td>2</td>\n",
       "      <td>16</td>\n",
       "      <td>4</td>\n",
       "      <td>0</td>\n",
       "      <td>0</td>\n",
       "      <td>4</td>\n",
       "    </tr>\n",
       "    <tr>\n",
       "      <th>4</th>\n",
       "      <td>0</td>\n",
       "      <td>0</td>\n",
       "      <td>12</td>\n",
       "      <td>10</td>\n",
       "      <td>0</td>\n",
       "      <td>0</td>\n",
       "      <td>0</td>\n",
       "      <td>0</td>\n",
       "      <td>0</td>\n",
       "      <td>0</td>\n",
       "      <td>...</td>\n",
       "      <td>0</td>\n",
       "      <td>0</td>\n",
       "      <td>0</td>\n",
       "      <td>9</td>\n",
       "      <td>16</td>\n",
       "      <td>16</td>\n",
       "      <td>10</td>\n",
       "      <td>0</td>\n",
       "      <td>0</td>\n",
       "      <td>5</td>\n",
       "    </tr>\n",
       "    <tr>\n",
       "      <th>...</th>\n",
       "      <td>...</td>\n",
       "      <td>...</td>\n",
       "      <td>...</td>\n",
       "      <td>...</td>\n",
       "      <td>...</td>\n",
       "      <td>...</td>\n",
       "      <td>...</td>\n",
       "      <td>...</td>\n",
       "      <td>...</td>\n",
       "      <td>...</td>\n",
       "      <td>...</td>\n",
       "      <td>...</td>\n",
       "      <td>...</td>\n",
       "      <td>...</td>\n",
       "      <td>...</td>\n",
       "      <td>...</td>\n",
       "      <td>...</td>\n",
       "      <td>...</td>\n",
       "      <td>...</td>\n",
       "      <td>...</td>\n",
       "      <td>...</td>\n",
       "    </tr>\n",
       "    <tr>\n",
       "      <th>1791</th>\n",
       "      <td>0</td>\n",
       "      <td>0</td>\n",
       "      <td>4</td>\n",
       "      <td>10</td>\n",
       "      <td>13</td>\n",
       "      <td>6</td>\n",
       "      <td>0</td>\n",
       "      <td>0</td>\n",
       "      <td>0</td>\n",
       "      <td>1</td>\n",
       "      <td>...</td>\n",
       "      <td>0</td>\n",
       "      <td>0</td>\n",
       "      <td>0</td>\n",
       "      <td>2</td>\n",
       "      <td>14</td>\n",
       "      <td>15</td>\n",
       "      <td>9</td>\n",
       "      <td>0</td>\n",
       "      <td>0</td>\n",
       "      <td>9</td>\n",
       "    </tr>\n",
       "    <tr>\n",
       "      <th>1792</th>\n",
       "      <td>0</td>\n",
       "      <td>0</td>\n",
       "      <td>6</td>\n",
       "      <td>16</td>\n",
       "      <td>13</td>\n",
       "      <td>11</td>\n",
       "      <td>1</td>\n",
       "      <td>0</td>\n",
       "      <td>0</td>\n",
       "      <td>0</td>\n",
       "      <td>...</td>\n",
       "      <td>0</td>\n",
       "      <td>0</td>\n",
       "      <td>0</td>\n",
       "      <td>6</td>\n",
       "      <td>16</td>\n",
       "      <td>14</td>\n",
       "      <td>6</td>\n",
       "      <td>0</td>\n",
       "      <td>0</td>\n",
       "      <td>0</td>\n",
       "    </tr>\n",
       "    <tr>\n",
       "      <th>1793</th>\n",
       "      <td>0</td>\n",
       "      <td>0</td>\n",
       "      <td>1</td>\n",
       "      <td>11</td>\n",
       "      <td>15</td>\n",
       "      <td>1</td>\n",
       "      <td>0</td>\n",
       "      <td>0</td>\n",
       "      <td>0</td>\n",
       "      <td>0</td>\n",
       "      <td>...</td>\n",
       "      <td>0</td>\n",
       "      <td>0</td>\n",
       "      <td>0</td>\n",
       "      <td>2</td>\n",
       "      <td>9</td>\n",
       "      <td>13</td>\n",
       "      <td>6</td>\n",
       "      <td>0</td>\n",
       "      <td>0</td>\n",
       "      <td>8</td>\n",
       "    </tr>\n",
       "    <tr>\n",
       "      <th>1794</th>\n",
       "      <td>0</td>\n",
       "      <td>0</td>\n",
       "      <td>2</td>\n",
       "      <td>10</td>\n",
       "      <td>7</td>\n",
       "      <td>0</td>\n",
       "      <td>0</td>\n",
       "      <td>0</td>\n",
       "      <td>0</td>\n",
       "      <td>0</td>\n",
       "      <td>...</td>\n",
       "      <td>0</td>\n",
       "      <td>0</td>\n",
       "      <td>0</td>\n",
       "      <td>5</td>\n",
       "      <td>12</td>\n",
       "      <td>16</td>\n",
       "      <td>12</td>\n",
       "      <td>0</td>\n",
       "      <td>0</td>\n",
       "      <td>9</td>\n",
       "    </tr>\n",
       "    <tr>\n",
       "      <th>1795</th>\n",
       "      <td>0</td>\n",
       "      <td>0</td>\n",
       "      <td>10</td>\n",
       "      <td>14</td>\n",
       "      <td>8</td>\n",
       "      <td>1</td>\n",
       "      <td>0</td>\n",
       "      <td>0</td>\n",
       "      <td>0</td>\n",
       "      <td>2</td>\n",
       "      <td>...</td>\n",
       "      <td>0</td>\n",
       "      <td>0</td>\n",
       "      <td>1</td>\n",
       "      <td>8</td>\n",
       "      <td>12</td>\n",
       "      <td>14</td>\n",
       "      <td>12</td>\n",
       "      <td>1</td>\n",
       "      <td>0</td>\n",
       "      <td>8</td>\n",
       "    </tr>\n",
       "  </tbody>\n",
       "</table>\n",
       "<p>1796 rows × 65 columns</p>\n",
       "</div>"
      ],
      "text/plain": [
       "      0  0.1   5  13   9   1  0.2  0.3  0.4  0.5  ...  0.23  0.24  0.25  6  \\\n",
       "0     0    0   0  12  13   5    0    0    0    0  ...     0     0     0  0   \n",
       "1     0    0   0   4  15  12    0    0    0    0  ...     0     0     0  0   \n",
       "2     0    0   7  15  13   1    0    0    0    8  ...     0     0     0  7   \n",
       "3     0    0   0   1  11   0    0    0    0    0  ...     0     0     0  0   \n",
       "4     0    0  12  10   0   0    0    0    0    0  ...     0     0     0  9   \n",
       "...  ..  ...  ..  ..  ..  ..  ...  ...  ...  ...  ...   ...   ...   ... ..   \n",
       "1791  0    0   4  10  13   6    0    0    0    1  ...     0     0     0  2   \n",
       "1792  0    0   6  16  13  11    1    0    0    0  ...     0     0     0  6   \n",
       "1793  0    0   1  11  15   1    0    0    0    0  ...     0     0     0  2   \n",
       "1794  0    0   2  10   7   0    0    0    0    0  ...     0     0     0  5   \n",
       "1795  0    0  10  14   8   1    0    0    0    2  ...     0     0     1  8   \n",
       "\n",
       "      13.2  10.2  0.26  0.27  0.28  0.29  \n",
       "0       11    16    10     0     0     1  \n",
       "1        3    11    16     9     0     2  \n",
       "2       13    13     9     0     0     3  \n",
       "3        2    16     4     0     0     4  \n",
       "4       16    16    10     0     0     5  \n",
       "...    ...   ...   ...   ...   ...   ...  \n",
       "1791    14    15     9     0     0     9  \n",
       "1792    16    14     6     0     0     0  \n",
       "1793     9    13     6     0     0     8  \n",
       "1794    12    16    12     0     0     9  \n",
       "1795    12    14    12     1     0     8  \n",
       "\n",
       "[1796 rows x 65 columns]"
      ]
     },
     "metadata": {},
     "output_type": "display_data"
    }
   ],
   "source": [
    "display(data_test)"
   ]
  },
  {
   "attachments": {},
   "cell_type": "markdown",
   "metadata": {},
   "source": [
    "# K-Means"
   ]
  },
  {
   "cell_type": "code",
   "execution_count": 24,
   "metadata": {},
   "outputs": [],
   "source": [
    "X_train = data.iloc[:, :64]\n",
    "y_train = data.iloc[:, 64]\n",
    "X_test = data.iloc[:, :64]\n",
    "y_test = data.iloc[:, 64]"
   ]
  },
  {
   "attachments": {},
   "cell_type": "markdown",
   "metadata": {},
   "source": [
    "On récupère le clustering dans kmeans, et on récupére les labels de tout les points."
   ]
  },
  {
   "attachments": {},
   "cell_type": "markdown",
   "metadata": {},
   "source": [
    "\n",
    "La deuxième ligne attribue les étiquettes de cluster à une variable appelée \"labels\". Chaque élément de \"labels\" correspond à l'affectation de cluster d'une ligne dans l'ensemble de données \"data\". Par exemple, si \"labels[0]\" est 3, cela signifie que la première ligne de \"data\" a été affectée au cluster 3 par l'algorithme KMeans."
   ]
  },
  {
   "cell_type": "code",
   "execution_count": 25,
   "metadata": {},
   "outputs": [],
   "source": [
    "kmeans = KMeans(n_clusters = 10,n_init=5 ).fit(X_train)\n",
    "labels = kmeans.labels_\n",
    "clusters = kmeans.predict(X_train)\n",
    "count_df = pd.DataFrame({'cluster': clusters, 'digit': y_train}).groupby(['cluster', 'digit']).size().unstack(fill_value=0)"
   ]
  },
  {
   "cell_type": "code",
   "execution_count": 26,
   "metadata": {},
   "outputs": [
    {
     "data": {
      "image/png": "[encoded data removed]",
      "text/plain": [
       "<Figure size 720x360 with 1 Axes>"
      ]
     },
     "metadata": {
      "needs_background": "light"
     },
     "output_type": "display_data"
    }
   ],
   "source": [
    "import matplotlib.pyplot as plt\n",
    "\n",
    "count_df.plot(kind='bar', stacked=True, figsize=(10, 5))\n",
    "plt.xlabel('Cluster')\n",
    "plt.ylabel('Count')\n",
    "plt.title('Distribution of digits in clusters')\n",
    "plt.show()"
   ]
  },
  {
   "cell_type": "code",
   "execution_count": 27,
   "metadata": {},
   "outputs": [
    {
     "name": "stdout",
     "output_type": "stream",
     "text": [
      "0.1915253133207275\n"
     ]
    }
   ],
   "source": [
    "silhouette = silhouette_score(X_train, clusters)\n",
    "print(silhouette)"
   ]
  },
  {
   "attachments": {},
   "cell_type": "markdown",
   "metadata": {},
   "source": [
    "L'indice de silhouette varie entre -1 et 1, où une valeur proche de 1 indique que les points sont bien regroupés et séparés, et une valeur proche de -1 indique que les points sont mal regroupés et qu'ils devraient être dans d'autres clusters."
   ]
  },
  {
   "cell_type": "code",
   "execution_count": 28,
   "metadata": {},
   "outputs": [
    {
     "name": "stdout",
     "output_type": "stream",
     "text": [
      "Pour n_clusters = 2 L'indice de silhouette est : 0.12200027294792809\n",
      "Pour n_clusters = 3 L'indice de silhouette est : 0.12045676726671661\n",
      "Pour n_clusters = 4 L'indice de silhouette est : 0.1326428696342981\n",
      "Pour n_clusters = 5 L'indice de silhouette est : 0.14816537726936566\n",
      "Pour n_clusters = 6 L'indice de silhouette est : 0.16027254382187156\n",
      "Pour n_clusters = 7 L'indice de silhouette est : 0.17076246005427223\n",
      "Pour n_clusters = 8 L'indice de silhouette est : 0.18065985296567824\n",
      "Pour n_clusters = 9 L'indice de silhouette est : 0.18879370245115568\n",
      "Pour n_clusters = 10 L'indice de silhouette est : 0.19133348910605977\n",
      "Pour n_clusters = 11 L'indice de silhouette est : 0.18033065192235004\n",
      "Pour n_clusters = 12 L'indice de silhouette est : 0.18750764505746986\n",
      "Pour n_clusters = 13 L'indice de silhouette est : 0.1880375425722623\n",
      "Pour n_clusters = 14 L'indice de silhouette est : 0.1768726569078691\n",
      "Pour n_clusters = 15 L'indice de silhouette est : 0.18513724569860016\n",
      "Pour n_clusters = 16 L'indice de silhouette est : 0.17979184475644466\n",
      "Pour n_clusters = 17 L'indice de silhouette est : 0.1729931801165995\n",
      "Pour n_clusters = 18 L'indice de silhouette est : 0.1699512268057899\n",
      "Pour n_clusters = 19 L'indice de silhouette est : 0.16607192331696083\n",
      "Pour n_clusters = 20 L'indice de silhouette est : 0.16355257659180591\n"
     ]
    },
    {
     "data": {
      "image/png": "[encoded data removed]",
      "text/plain": [
       "<Figure size 432x288 with 1 Axes>"
      ]
     },
     "metadata": {
      "needs_background": "light"
     },
     "output_type": "display_data"
    }
   ],
   "source": [
    "silhouette_avgs = []\n",
    "\n",
    "for n_clusters in range(2, 21):\n",
    "    kmeans = KMeans(n_clusters=n_clusters, n_init=5).fit(X_train)\n",
    "    cluster = kmeans.predict(X_train)\n",
    "\n",
    "    silhouette_avg = silhouette_score(X_train, cluster)\n",
    "    silhouette_avgs.append(silhouette_avg)\n",
    "\n",
    "    print(\"Pour n_clusters =\", n_clusters, \"L'indice de silhouette est :\", silhouette_avg)\n",
    "\n",
    "plt.plot(range(2, 21), silhouette_avgs)\n",
    "plt.xlabel('Nombre de clusters')\n",
    "plt.ylabel('Indice de silhouette')\n",
    "plt.show()"
   ]
  },
  {
   "attachments": {},
   "cell_type": "markdown",
   "metadata": {},
   "source": [
    "Après plusieurs essais, on voit que l'indide ce silhouette va diminuer lorsqu'on augmente le nombre de clusters.\n",
    "Le meilleur clustering est atteint pour **K = 10**. Ce qui est cohérent car on a bien 10 chiffres dans ce jeu de données."
   ]
  },
  {
   "cell_type": "code",
   "execution_count": 29,
   "metadata": {},
   "outputs": [
    {
     "name": "stdout",
     "output_type": "stream",
     "text": [
      "Cluster  0  - Majority class:  7\n",
      "Cluster  1  - Majority class:  5\n",
      "Cluster  2  - Majority class:  4\n",
      "Cluster  3  - Majority class:  6\n",
      "Cluster  4  - Majority class:  1\n",
      "Cluster  5  - Majority class:  2\n",
      "Cluster  6  - Majority class:  1\n",
      "Cluster  7  - Majority class:  3\n",
      "Cluster  8  - Majority class:  0\n",
      "Cluster  9  - Majority class:  8\n"
     ]
    }
   ],
   "source": [
    "majority_labels = []\n",
    "\n",
    "for i in range(count_df.shape[0]):\n",
    "    majority_labels.append(count_df.iloc[i].idxmax())\n",
    "    print(\"Cluster \", i, \" - Majority class: \", majority_labels[i])"
   ]
  },
  {
   "cell_type": "code",
   "execution_count": 30,
   "metadata": {},
   "outputs": [],
   "source": [
    "from scipy.spatial.distance import cdist\n",
    "\n",
    "kmeans = KMeans(n_clusters=10, n_init=5).fit(X_train)\n",
    "\n",
    "cluster_centers = kmeans.cluster_centers_\n",
    "\n",
    "distances = cdist(X_test, cluster_centers, metric='euclidean')\n",
    "nearest_cluster_indices = np.argmin(distances, axis=1)\n",
    "\n",
    "\n",
    "predicted_labels = kmeans.labels_[nearest_cluster_indices]"
   ]
  },
  {
   "cell_type": "code",
   "execution_count": 31,
   "metadata": {},
   "outputs": [
    {
     "name": "stdout",
     "output_type": "stream",
     "text": [
      "Confusion matrix:\n",
      " [[  0   0   1   1   0   0   1   0 372   0]\n",
      " [  1   1   0   1 247  15 115   9   0   0]\n",
      " [  5   0   0   1   0 329   0  19   0  26]\n",
      " [ 11   5   0   0   2   5   4 345   0  17]\n",
      " [ 28   7 308   4   6   0  29   0   0   5]\n",
      " [  0 298   0   2   1   0   5  70   0   0]\n",
      " [  0   0   1 373   3   0   0   0   0   0]\n",
      " [372   0   0   0   6   0   6   0   0   3]\n",
      " [  1   3   0   4  31   0   6   7   0 328]\n",
      " [ 24   2   0   0   1   0  96 257   0   2]]\n",
      "Accuracy: 0.002354788069073783\n"
     ]
    }
   ],
   "source": [
    "from sklearn.metrics import confusion_matrix, accuracy_score\n",
    "\n",
    "true_labels = y_train\n",
    "\n",
    "confusion_mat = confusion_matrix(true_labels, clusters)\n",
    "accuracy = accuracy_score(true_labels, clusters)\n",
    "\n",
    "print(\"Confusion matrix:\\n\", confusion_mat)\n",
    "print(\"Accuracy:\", accuracy)"
   ]
  },
  {
   "attachments": {},
   "cell_type": "markdown",
   "metadata": {},
   "source": [
    "<h1 style=\"color:white; background-color: #ADD8E6; padding:15px; text-align: center;\">\n",
    "Cluster Hierarchique\n",
    "</h1>"
   ]
  },
  {
   "cell_type": "markdown",
   "metadata": {},
   "source": [
    "Dans ce dendrogramme, chaque branche verticale représente un cluster, et la hauteur de la branche représente la distance entre les clusters liés. Les feuilles de l'arbre représentent les observations individuelles. \n",
    "\n",
    "Le critère de Ward a été utilisé ici pour minimiser la somme des carrés des différences entre les observations dans chaque cluster. Ainsi, chaque fusion de cluster est effectuée en minimisant la somme des carrés des distances entre les observations et leur centroides dans le nouveau cluster formé."
   ]
  },
  {
   "cell_type": "code",
   "execution_count": 32,
   "metadata": {},
   "outputs": [
    {
     "data": {
      "image/png": "[encoded data removed]",
      "text/plain": [
       "<Figure size 1080x576 with 1 Axes>"
      ]
     },
     "metadata": {
      "needs_background": "light"
     },
     "output_type": "display_data"
    }
   ],
   "source": [
    "Hier_clust = linkage(data, method='ward')\n",
    "\n",
    "plt.figure(figsize=(15, 8))\n",
    "dendrogram(Hier_clust, leaf_font_size=8)\n",
    "\n",
    "k = 10\n",
    "clusters = fcluster(Hier_clust, k, criterion='maxclust')\n",
    "\n",
    "plt.xlabel('Index des observations')\n",
    "plt.ylabel('Distance de fusion')\n",
    "plt.title('Dendrogramme de Clustering Hiérarchique avec le critère de Ward')\n",
    "\n",
    "plt.show()"
   ]
  },
  {
   "cell_type": "code",
   "execution_count": 33,
   "metadata": {},
   "outputs": [
    {
     "name": "stdout",
     "output_type": "stream",
     "text": [
      "L'indice de silhouette pour K=10: 0.1780\n"
     ]
    }
   ],
   "source": [
    "silhouette_avg = silhouette_score(data, clusters)\n",
    "print(\"L'indice de silhouette pour K={}: {:.4f}\".format(k, silhouette_avg))"
   ]
  },
  {
   "cell_type": "code",
   "execution_count": 34,
   "metadata": {},
   "outputs": [
    {
     "name": "stdout",
     "output_type": "stream",
     "text": [
      "L'indice de silhouette pour K=10: 0.1780\n",
      "L'indice de silhouette pour K=11: 0.1826\n",
      "L'indice de silhouette pour K=12: 0.1773\n",
      "L'indice de silhouette pour K=13: 0.1788\n",
      "L'indice de silhouette pour K=14: 0.1785\n",
      "L'indice de silhouette pour K=15: 0.1749\n",
      "L'indice de silhouette pour K=16: 0.1664\n",
      "L'indice de silhouette pour K=17: 0.1696\n",
      "L'indice de silhouette pour K=18: 0.1548\n",
      "L'indice de silhouette pour K=19: 0.1548\n",
      "L'indice de silhouette pour K=20: 0.1533\n"
     ]
    }
   ],
   "source": [
    "for k in range (10,21) : \n",
    "    clusters = fcluster(Hier_clust, k, criterion='maxclust')\n",
    "    silhouette_avg = silhouette_score(data, clusters)\n",
    "    print(\"L'indice de silhouette pour K={}: {:.4f}\".format(k, silhouette_avg))"
   ]
  },
  {
   "attachments": {},
   "cell_type": "markdown",
   "metadata": {},
   "source": [
    "On voit que le meilleur indice obtenu est pour 11 clusters. Cela correspond à peu près au 10 clusters des 10 chiffres que l'on devrait avoir. Et on obtient 0.1826 contre 0.19 précédemment, on reste dans le même ordre de grandeur."
   ]
  },
  {
   "cell_type": "code",
   "execution_count": 39,
   "metadata": {},
   "outputs": [
    {
     "data": {
      "image/png": "[encoded data removed]",
      "text/plain": [
       "<Figure size 720x360 with 1 Axes>"
      ]
     },
     "metadata": {
      "needs_background": "light"
     },
     "output_type": "display_data"
    }
   ],
   "source": [
    "clusters = fcluster(Hier_clust, 10, criterion='maxclust')\n",
    "count_df = pd.DataFrame({'cluster': clusters, 'digit': y_train}).groupby(['cluster', 'digit']).size().unstack(fill_value=0)\n",
    "count_df.plot(kind='bar', stacked=True, figsize=(10, 5))\n",
    "plt.xlabel('Cluster')\n",
    "plt.ylabel('Count')\n",
    "plt.title('Distribution of digits in clusters')\n",
    "plt.show()"
   ]
  },
  {
   "cell_type": "code",
   "execution_count": 40,
   "metadata": {},
   "outputs": [
    {
     "name": "stdout",
     "output_type": "stream",
     "text": [
      "Cluster  0  - Majority class:  7\n",
      "Cluster  1  - Majority class:  4\n",
      "Cluster  2  - Majority class:  9\n",
      "Cluster  3  - Majority class:  3\n",
      "Cluster  4  - Majority class:  2\n",
      "Cluster  5  - Majority class:  5\n",
      "Cluster  6  - Majority class:  1\n",
      "Cluster  7  - Majority class:  8\n",
      "Cluster  8  - Majority class:  0\n",
      "Cluster  9  - Majority class:  6\n"
     ]
    }
   ],
   "source": [
    "majority_labels = []\n",
    "\n",
    "for i in range(count_df.shape[0]):\n",
    "    majority_labels.append(count_df.iloc[i].idxmax())\n",
    "    print(\"Cluster \", i, \" - Majority class: \", majority_labels[i])"
   ]
  },
  {
   "cell_type": "code",
   "execution_count": 41,
   "metadata": {},
   "outputs": [],
   "source": [
    "from scipy.spatial.distance import cdist\n",
    "\n",
    "kmeans = KMeans(n_clusters=10, n_init=5).fit(X_train)\n",
    "cluster_centers = kmeans.cluster_centers_\n",
    "\n",
    "\n",
    "distances = cdist(X_test, cluster_centers, metric='euclidean')\n",
    "nearest_cluster_indices = np.argmin(distances, axis=1)\n",
    "\n",
    "# Attribuer à chaque élément de la base de test le label associé au cluster le plus proche\n",
    "predicted_labels = kmeans.labels_[nearest_cluster_indices]"
   ]
  },
  {
   "cell_type": "code",
   "execution_count": 42,
   "metadata": {},
   "outputs": [
    {
     "name": "stdout",
     "output_type": "stream",
     "text": [
      "Confusion matrix:\n",
      " [[  0   0   0   2   0   0   0   0   0 372   1]\n",
      " [  0   0   0 101   2  38   0 245   3   0   0]\n",
      " [  0   0   0   0   2 378   0   0   0   0   0]\n",
      " [  0   0   0   1 366  20   1   0   1   0   0]\n",
      " [  0  18 233 132   0   0   0   0   0   0   4]\n",
      " [  0   0   0   2  28   1 345   0   0   0   0]\n",
      " [  0   0   0   1   0   0   0   1   0   0 375]\n",
      " [  0 382   0   4   0   1   0   0   0   0   0]\n",
      " [  0   0   0   4   1   9   2   3 361   0   0]\n",
      " [  0   9   0 142 227   0   2   0   2   0   0]\n",
      " [  0   0   0   0   0   0   0   0   0   0   0]]\n",
      "Accuracy: 0.09497645211930926\n"
     ]
    }
   ],
   "source": [
    "from sklearn.metrics import confusion_matrix, accuracy_score\n",
    "\n",
    "true_labels = y_train\n",
    "\n",
    "confusion_mat = confusion_matrix(true_labels, clusters)\n",
    "accuracy = accuracy_score(true_labels, clusters)\n",
    "\n",
    "print(\"Confusion matrix:\\n\", confusion_mat)\n",
    "print(\"Accuracy:\", accuracy)"
   ]
  },
  {
   "attachments": {},
   "cell_type": "markdown",
   "metadata": {},
   "source": [
    "<h1 style=\"color:white; background-color: #ADD8E6; padding:15px; text-align: center;\">\n",
    "Cluster Hierarchique\n",
    "</h1>"
   ]
  },
  {
   "cell_type": "code",
   "execution_count": 68,
   "metadata": {},
   "outputs": [
    {
     "data": {
      "image/png": "[encoded data removed]",
      "text/plain": [
       "<Figure size 576x432 with 10 Axes>"
      ]
     },
     "metadata": {
      "needs_background": "light"
     },
     "output_type": "display_data"
    }
   ],
   "source": [
    "import numpy as np\n",
    "import cv2\n",
    "\n",
    "data = pd.read_csv(\"./data/optdigits.tra\")\n",
    "\n",
    "selected_indices = []\n",
    "for label in range(10):\n",
    "    indices = np.where(data[\"0.26\"] == label)[0]\n",
    "    selected_indices.append(indices[0])\n",
    "\n",
    "print_df = np.zeros((10, 65))\n",
    "\n",
    "print_df = data.iloc[selected_indices]\n",
    "\n",
    "fig, axs = plt.subplots(nrows=2, ncols=5, figsize=(8, 6))\n",
    "\n",
    "for i, ax in enumerate(axs.flat):\n",
    "    image_matrix = print_df.iloc[i, :64].values.reshape(8, 8)\n",
    "    ax.imshow(image_matrix, cmap='gray')\n",
    "    ax.set_title(f\"Image {i}\")\n",
    "\n",
    "plt.tight_layout()\n",
    "plt.show()\n",
    "\n",
    "for i in range(10):\n",
    "    filename = f'images/optdigit_{i}.png'\n",
    "    image_data = print_df.iloc[i, :64].values.reshape(8, 8)\n",
    "    cv2.imwrite(filename, image_data)"
   ]
  }
 ],
 "metadata": {
  "kernelspec": {
   "display_name": "base",
   "language": "python",
   "name": "python3"
  },
  "language_info": {
   "codemirror_mode": {
    "name": "ipython",
    "version": 3
   },
   "file_extension": ".py",
   "mimetype": "text/x-python",
   "name": "python",
   "nbconvert_exporter": "python",
   "pygments_lexer": "ipython3",
   "version": "3.9.7"
  },
  "orig_nbformat": 4,
  "vscode": {
   "interpreter": {
    "hash": "6273220d8bc7ae11b70a9635d3a5f0503e91b14cd88235f8dad01f4cd2f542b3"
   }
  }
 },
 "nbformat": 4,
 "nbformat_minor": 2
}
